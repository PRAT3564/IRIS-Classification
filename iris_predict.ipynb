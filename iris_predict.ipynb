{
  "nbformat": 4,
  "nbformat_minor": 0,
  "metadata": {
    "colab": {
      "provenance": []
    },
    "kernelspec": {
      "name": "python3",
      "display_name": "Python 3"
    },
    "language_info": {
      "name": "python"
    }
  },
  "cells": [
    {
      "cell_type": "code",
      "execution_count": null,
      "metadata": {
        "id": "lNFK4P83rvTO"
      },
      "outputs": [],
      "source": [
        "import seaborn as sns\n",
        "import pandas as pd\n",
        "from sklearn.model_selection import train_test_split\n",
        "from sklearn.ensemble import RandomForestClassifier\n",
        "from sklearn.metrics import accuracy_score\n",
        "\n",
        "# Load IRIS Dataset\n",
        "iris = sns.load_dataset('iris')"
      ]
    },
    {
      "cell_type": "code",
      "source": [
        "# Split the data into features (X) and labels (y)\n",
        "X = iris.drop('species', axis=1)\n",
        "y = iris['species']\n",
        "\n",
        "# Split the data into training and testing sets\n",
        "X_train, X_test, y_train, y_test = train_test_split(X, y, test_size=0.2, random_state=42)\n",
        "\n",
        "# Initialize the Random Forest classifier\n",
        "clf = RandomForestClassifier(random_state=42)\n",
        "\n",
        "# Train the model on the training data\n",
        "clf.fit(X_train, y_train)\n",
        "\n",
        "# Calculate and print the accuracy of the model\n",
        "y_pred = clf.predict(X_test)\n",
        "accuracy = accuracy_score(y_test, y_pred)\n",
        "print(f\"Model Accuracy: {accuracy:.2f}\")"
      ],
      "metadata": {
        "colab": {
          "base_uri": "https://localhost:8080/"
        },
        "id": "T0c1C1U7r1xQ",
        "outputId": "4d1667dc-3670-471e-a07a-db554b86ee63"
      },
      "execution_count": null,
      "outputs": [
        {
          "output_type": "stream",
          "name": "stdout",
          "text": [
            "Model Accuracy: 1.00\n"
          ]
        }
      ]
    },
    {
      "cell_type": "code",
      "source": [
        "def predict_species(sepal_length, sepal_width, petal_length, petal_width):\n",
        "    # Create a DataFrame with the new data point\n",
        "    new_data = pd.DataFrame({\n",
        "        'sepal_length': [sepal_length],\n",
        "        'sepal_width': [sepal_width],\n",
        "        'petal_length': [petal_length],\n",
        "        'petal_width': [petal_width]\n",
        "    })\n",
        "\n",
        "    # Make a prediction using the trained model\n",
        "    predicted_species = clf.predict(new_data)\n",
        "\n",
        "    # Return the predicted species\n",
        "    return predicted_species[0]"
      ],
      "metadata": {
        "id": "6ohFYkHjr4ii"
      },
      "execution_count": null,
      "outputs": []
    },
    {
      "cell_type": "code",
      "source": [
        "# Test the prediction function with new data\n",
        "sepal_length = 5.1\n",
        "sepal_width = 3.5\n",
        "petal_length = 1.4\n",
        "petal_width = 0.2\n",
        "\n",
        "predicted_species = predict_species(sepal_length, sepal_width, petal_length, petal_width)\n",
        "print(f\"Predicted Species: {predicted_species}\")"
      ],
      "metadata": {
        "colab": {
          "base_uri": "https://localhost:8080/"
        },
        "id": "VP2GmmXir7d_",
        "outputId": "d28d865e-6039-4939-8492-ad13203100a2"
      },
      "execution_count": null,
      "outputs": [
        {
          "output_type": "stream",
          "name": "stdout",
          "text": [
            "Predicted Species: setosa\n"
          ]
        }
      ]
    },
    {
      "cell_type": "code",
      "source": [],
      "metadata": {
        "id": "_17oZy-9r-MD"
      },
      "execution_count": null,
      "outputs": []
    }
  ]
}